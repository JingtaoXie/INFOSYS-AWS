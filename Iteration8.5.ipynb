{
 "cells": [
  {
   "cell_type": "code",
   "execution_count": 1,
   "id": "8ad98a99",
   "metadata": {},
   "outputs": [
    {
     "name": "stderr",
     "output_type": "stream",
     "text": [
      "WARNING: An illegal reflective access operation has occurred\n",
      "WARNING: Illegal reflective access by org.apache.spark.unsafe.Platform (file:/home/ubuntu/spark-3.2.1-bin-hadoop2.7/jars/spark-unsafe_2.12-3.2.1.jar) to constructor java.nio.DirectByteBuffer(long,int)\n",
      "WARNING: Please consider reporting this to the maintainers of org.apache.spark.unsafe.Platform\n",
      "WARNING: Use --illegal-access=warn to enable warnings of further illegal reflective access operations\n",
      "WARNING: All illegal access operations will be denied in a future release\n",
      "Using Spark's default log4j profile: org/apache/spark/log4j-defaults.properties\n",
      "Setting default log level to \"WARN\".\n",
      "To adjust logging level use sc.setLogLevel(newLevel). For SparkR, use setLogLevel(newLevel).\n",
      "24/05/22 09:59:43 WARN NativeCodeLoader: Unable to load native-hadoop library for your platform... using builtin-java classes where applicable\n",
      "24/05/22 09:59:44 WARN Utils: Service 'SparkUI' could not bind on port 4040. Attempting port 4041.\n"
     ]
    }
   ],
   "source": [
    "import findspark\n",
    "findspark.init('/home/ubuntu/spark-3.2.1-bin-hadoop2.7')\n",
    "import pyspark\n",
    "from pyspark.sql import SparkSession\n",
    "from pyspark.sql.functions import col, avg\n",
    "spark = SparkSession.builder.appName('Iteration').getOrCreate()"
   ]
  },
  {
   "cell_type": "code",
   "execution_count": 2,
   "id": "cc0530d1",
   "metadata": {},
   "outputs": [],
   "source": [
    "import pandas as pd\n",
    "\n",
    "crime_data_pd=pd.read_excel(\"Crime.xlsx\")\n",
    "education_data_pd=pd.read_excel(\"Education.xlsx\")\n",
    "\n",
    "#Transfer pandas dataframe to spark dataframe\n",
    "crime_data= spark.createDataFrame(crime_data_pd)\n",
    "education_data= spark.createDataFrame(education_data_pd)"
   ]
  },
  {
   "cell_type": "code",
   "execution_count": 3,
   "id": "432c411f",
   "metadata": {},
   "outputs": [
    {
     "name": "stderr",
     "output_type": "stream",
     "text": [
      "                                                                                \r"
     ]
    },
    {
     "name": "stdout",
     "output_type": "stream",
     "text": [
      "Total missing values in crime_data: 16\n",
      "Total missing values in education_data: 157\n"
     ]
    }
   ],
   "source": [
    "from pyspark.sql.functions import col, sum as spark_sum, isnan\n",
    "\n",
    "def calculate_total_missing_values(dataframe):\n",
    "\n",
    "    missing_counts = dataframe.select([\n",
    "        (spark_sum(col(column).isNull().cast(\"int\")) + spark_sum(isnan(col(column)).cast(\"int\"))).alias(column)\n",
    "        for column in dataframe.columns\n",
    "    ])\n",
    "    \n",
    "    total_missing_values = missing_counts.select(\n",
    "        [spark_sum(col(column)) for column in missing_counts.columns]\n",
    "    ).first()\n",
    "\n",
    "    return sum(total_missing_values)\n",
    "\n",
    "\n",
    "total_missing_crime_data = calculate_total_missing_values(crime_data)\n",
    "total_missing_education_data = calculate_total_missing_values(education_data)\n",
    "\n",
    "\n",
    "print(f\"Total missing values in crime_data: {total_missing_crime_data}\")\n",
    "print(f\"Total missing values in education_data: {total_missing_education_data}\")\n"
   ]
  },
  {
   "cell_type": "code",
   "execution_count": 4,
   "id": "76586cff",
   "metadata": {},
   "outputs": [
    {
     "name": "stdout",
     "output_type": "stream",
     "text": [
      "Total missing values in crime_data after dealing: 0\n",
      "Total missing values in education_data after dealing: 0\n"
     ]
    }
   ],
   "source": [
    "def calculate_mean_values(dataframe, exclude_columns):\n",
    "    dataframe = dataframe.fillna(0)\n",
    "    mean_values = dataframe.agg(\n",
    "        *[avg(col(column)).alias(column) for column in dataframe.columns if column not in exclude_columns]\n",
    "    ).first().asDict()\n",
    "    return mean_values\n",
    "\n",
    "def replace_missing_values_with_mean(dataframe, exclude_columns):\n",
    "    mean_values = calculate_mean_values(dataframe, exclude_columns)\n",
    "    dataframe = dataframe.fillna(mean_values)\n",
    "    return dataframe\n",
    "\n",
    "\n",
    "exclude_columns=[\"Region\",\"Year\"]\n",
    "\n",
    "crime_data=replace_missing_values_with_mean(crime_data, exclude_columns)\n",
    "education_data=replace_missing_values_with_mean(education_data, exclude_columns)\n",
    "\n",
    "\n",
    "total_missing_crime_data_update=calculate_total_missing_values(crime_data)\n",
    "total_missing_education_data_update=calculate_total_missing_values(education_data)\n",
    "\n",
    "print(f\"Total missing values in crime_data after dealing: {total_missing_crime_data_update}\")\n",
    "print(f\"Total missing values in education_data after dealing: {total_missing_education_data_update}\")"
   ]
  },
  {
   "cell_type": "code",
   "execution_count": 5,
   "id": "bbf6afd6",
   "metadata": {},
   "outputs": [
    {
     "name": "stdout",
     "output_type": "stream",
     "text": [
      "+--------------+----+-----------------------+---------------------+-----------------------------------------------+------------------+\n",
      "|        Region|year|Total amount of schools|Mean household income|Participation in ECE(early childhood education)|Student Attendance|\n",
      "+--------------+----+-----------------------+---------------------+-----------------------------------------------+------------------+\n",
      "|     Northland|2014|                  151.0|              66248.0|                                         7028.0|              58.4|\n",
      "|     Northland|2015|                  152.0|              68880.0|                                         6939.0|              60.7|\n",
      "|     Northland|2016|                  152.0|              73469.0|                                         7200.0|              55.9|\n",
      "|     Northland|2017|                  151.0|              75326.0|                                         7422.0|              50.9|\n",
      "|     Northland|2018|                  151.0|              78137.0|                                         7316.0|              51.3|\n",
      "|     Northland|2019|                  151.0|              83350.0|                                         7113.0|              54.6|\n",
      "|     Northland|2020|                  151.0|              88294.0|                                         6850.0|              48.2|\n",
      "|     Northland|2021|                  151.0|              93714.0|                                         7455.0|              50.8|\n",
      "|     Northland|2022|                  153.0|              96383.0|                                         6696.0|              33.7|\n",
      "|      Auckland|2014|                  420.0|             103371.0|                                        50531.0|              70.5|\n",
      "|      Auckland|2015|                  423.0|             107941.0|                                        53068.0|              71.4|\n",
      "|      Auckland|2016|                  422.0|             115091.0|                                        53632.0|              68.0|\n",
      "|      Auckland|2017|                  427.0|             118097.0|                                        54040.0|              63.1|\n",
      "|      Auckland|2018|                  428.0|             122266.0|                                        53422.0|              65.1|\n",
      "|      Auckland|2019|                  430.0|             128169.0|                                        53474.0|              64.7|\n",
      "|      Auckland|2020|                  431.0|             135414.0|                                        50125.0|              59.6|\n",
      "|      Auckland|2021|                  430.0|             140771.0|                                        50724.0|              67.5|\n",
      "|      Auckland|2022|                  433.0|             151179.0|                                        47115.0|              45.9|\n",
      "|South Auckland|2014|                  120.0|    64268.58564814815|                                        13921.0|              64.4|\n",
      "|South Auckland|2015|                  122.0|    64268.58564814815|                                        14380.0|              63.5|\n",
      "+--------------+----+-----------------------+---------------------+-----------------------------------------------+------------------+\n",
      "only showing top 20 rows\n",
      "\n"
     ]
    }
   ],
   "source": [
    "from pyspark.sql.functions import round\n",
    "\n",
    "education_data = education_data.withColumn(\n",
    "    \"Student Attendance\",\n",
    "    (col(\"Total amount of student attending regularly\") / col(\"Total amount of Students\") * 100).cast(\"double\")\n",
    ")\n",
    "\n",
    "education_data = education_data.withColumn(\"Student Attendance\", round(col(\"Student Attendance\"), 1))\n",
    "\n",
    "education_data = education_data.drop(\"Total amount of student attending regularly\", \"Total amount of Students\")\n",
    "\n",
    "education_data.show(20)"
   ]
  },
  {
   "cell_type": "code",
   "execution_count": 6,
   "id": "089e9cd1",
   "metadata": {},
   "outputs": [
    {
     "name": "stdout",
     "output_type": "stream",
     "text": [
      "+--------------+----+-----------------------------------+-------------------------------------+-----------------------------------+-----------------------------------------------------+------------------------------------+-----------------------+---------------------+-----------------------------------------------+------------------+\n",
      "|        Region|year|Total amount of convicted juveniles|Total amount of family violence cases|Total amount of people with charges|Total amount of harmful digital communication offense|Total amount of drugs offences cases|Total amount of schools|Mean household income|Participation in ECE(early childhood education)|Student Attendance|\n",
      "+--------------+----+-----------------------------------+-------------------------------------+-----------------------------------+-----------------------------------------------------+------------------------------------+-----------------------+---------------------+-----------------------------------------------+------------------+\n",
      "|South Auckland|2015|                                297|                                 1484|                              10484|                                                  0.0|                                 565|                  122.0|    64268.58564814815|                                        14380.0|              63.5|\n",
      "|      Auckland|2016|                                 87|                                  961|                               7472|                                                  4.0|                                 669|                  422.0|             115091.0|                                        53632.0|              68.0|\n",
      "|      Auckland|2020|                                 69|                                  929|                               5889|                                                  8.0|                                 638|                  431.0|             135414.0|                                        50125.0|              59.6|\n",
      "|     Northland|2014|                                123|                                  692|                               4335|                                    4.458333333333333|                                 339|                  151.0|              66248.0|                                         7028.0|              58.4|\n",
      "|      Auckland|2017|                                 78|                                  851|                               6806|                                                  3.0|                                 741|                  427.0|             118097.0|                                        54040.0|              63.1|\n",
      "|      Auckland|2021|                                 72|                                  711|                               4113|                                                 10.0|                                 468|                  430.0|             140771.0|                                        50724.0|              67.5|\n",
      "|South Auckland|2016|                                288|                                 1638|                              10109|                                                  1.0|                                 641|                  122.0|    64268.58564814815|                                        14852.0|              58.4|\n",
      "|South Auckland|2014|                                291|                                 1422|                              11409|                                    4.458333333333333|                                 632|                  120.0|    64268.58564814815|                                        13921.0|              64.4|\n",
      "|      Auckland|2015|                                120|                                  902|                               7398|                                                  0.0|                                 723|                  423.0|             107941.0|                                        53068.0|              71.4|\n",
      "|      Auckland|2018|                                 66|                                  859|                               7149|                                                  3.0|                                 671|                  428.0|             122266.0|                                        53422.0|              65.1|\n",
      "|     Northland|2019|                                 63|                                  722|                               3476|                                                  6.0|                                 359|                  151.0|              83350.0|                                         7113.0|              54.6|\n",
      "|     Northland|2020|                                 69|                                  752|                               3719|                                                  4.0|                                 362|                  151.0|              88294.0|                                         6850.0|              48.2|\n",
      "|     Northland|2022|                                 75|                                  648|                               3217|                                                  3.0|                                 236|                  153.0|              96383.0|                                         6696.0|              33.7|\n",
      "|      Auckland|2014|                                123|                                  885|                               7870|                                    4.458333333333333|                                 781|                  420.0|             103371.0|                                        50531.0|              70.5|\n",
      "|      Auckland|2022|                                 87|                                  944|                               5968|                                                 11.0|                                 530|                  433.0|             151179.0|                                        47115.0|              45.9|\n",
      "|     Northland|2018|                                102|                                  633|                               3937|                                                  2.0|                                 344|                  151.0|              78137.0|                                         7316.0|              51.3|\n",
      "|     Northland|2017|                                114|                                  695|                               3964|                                                  0.0|                                 326|                  151.0|              75326.0|                                         7422.0|              50.9|\n",
      "|     Northland|2016|                                117|                                  772|                               4435|                                                  0.0|                                 403|                  152.0|              73469.0|                                         7200.0|              55.9|\n",
      "|     Northland|2021|                                 66|                                  640|                               3092|                                                  2.0|                                 242|                  151.0|              93714.0|                                         7455.0|              50.8|\n",
      "|     Northland|2015|                                138|                                  817|                               4528|                                                  0.0|                                 341|                  152.0|              68880.0|                                         6939.0|              60.7|\n",
      "+--------------+----+-----------------------------------+-------------------------------------+-----------------------------------+-----------------------------------------------------+------------------------------------+-----------------------+---------------------+-----------------------------------------------+------------------+\n",
      "only showing top 20 rows\n",
      "\n"
     ]
    }
   ],
   "source": [
    "Integrated_data = crime_data.join(education_data, on=[\"Region\", \"Year\"], how=\"left\")\n",
    "Integrated_data.show()"
   ]
  },
  {
   "cell_type": "code",
   "execution_count": 7,
   "id": "05a84e36",
   "metadata": {},
   "outputs": [
    {
     "name": "stdout",
     "output_type": "stream",
     "text": [
      "Total amount of family violence cases\n",
      "Total amount of people with charges\n",
      "Total amount of drugs offences cases\n",
      "Mean household income\n",
      "+--------------+----+-----------------------------------+-------------------------------------+-----------------------------------+------------------------------------+---------------------+\n",
      "|        Region|year|Total amount of convicted juveniles|Total amount of family violence cases|Total amount of people with charges|Total amount of drugs offences cases|Mean household income|\n",
      "+--------------+----+-----------------------------------+-------------------------------------+-----------------------------------+------------------------------------+---------------------+\n",
      "|South Auckland|2015|                                297|                                 1484|                              10484|                                 565|    64268.58564814815|\n",
      "|      Auckland|2016|                                 87|                                  961|                               7472|                                 669|             115091.0|\n",
      "|      Auckland|2020|                                 69|                                  929|                               5889|                                 638|             135414.0|\n",
      "|     Northland|2014|                                123|                                  692|                               4335|                                 339|              66248.0|\n",
      "|      Auckland|2017|                                 78|                                  851|                               6806|                                 741|             118097.0|\n",
      "|      Auckland|2021|                                 72|                                  711|                               4113|                                 468|             140771.0|\n",
      "|South Auckland|2016|                                288|                                 1638|                              10109|                                 641|    64268.58564814815|\n",
      "|South Auckland|2014|                                291|                                 1422|                              11409|                                 632|    64268.58564814815|\n",
      "|      Auckland|2015|                                120|                                  902|                               7398|                                 723|             107941.0|\n",
      "|      Auckland|2018|                                 66|                                  859|                               7149|                                 671|             122266.0|\n",
      "|     Northland|2019|                                 63|                                  722|                               3476|                                 359|              83350.0|\n",
      "|     Northland|2020|                                 69|                                  752|                               3719|                                 362|              88294.0|\n",
      "|     Northland|2022|                                 75|                                  648|                               3217|                                 236|              96383.0|\n",
      "|      Auckland|2014|                                123|                                  885|                               7870|                                 781|             103371.0|\n",
      "|      Auckland|2022|                                 87|                                  944|                               5968|                                 530|             151179.0|\n",
      "|     Northland|2018|                                102|                                  633|                               3937|                                 344|              78137.0|\n",
      "|     Northland|2017|                                114|                                  695|                               3964|                                 326|              75326.0|\n",
      "|     Northland|2016|                                117|                                  772|                               4435|                                 403|              73469.0|\n",
      "|     Northland|2021|                                 66|                                  640|                               3092|                                 242|              93714.0|\n",
      "|     Northland|2015|                                138|                                  817|                               4528|                                 341|              68880.0|\n",
      "+--------------+----+-----------------------------------+-------------------------------------+-----------------------------------+------------------------------------+---------------------+\n",
      "only showing top 20 rows\n",
      "\n"
     ]
    }
   ],
   "source": [
    "#4.1.1 Feature Selection, choose four of most significant fields for target variables\n",
    "from pyspark.ml.feature import VectorAssembler, UnivariateFeatureSelector\n",
    "from pyspark.sql.functions import col\n",
    "\n",
    "\n",
    "Copy_data = Integrated_data\n",
    "\n",
    "\n",
    "useless_columns = ['Region', 'year', 'Total amount of convicted juveniles']\n",
    "needed_columns = []\n",
    "\n",
    "for column in Copy_data.columns:\n",
    "    if column not in useless_columns:\n",
    "        needed_columns.append(column)\n",
    "\n",
    "\n",
    "features_combination = VectorAssembler(\n",
    "    inputCols=needed_columns,\n",
    "    outputCol='useful_features_list'\n",
    ")\n",
    "\n",
    "\n",
    "data_with_features = features_combination.transform(Copy_data)\n",
    "\n",
    "\n",
    "features_selection = UnivariateFeatureSelector(\n",
    "    featuresCol='useful_features_list',\n",
    "    labelCol='Total amount of convicted juveniles',\n",
    "    selectionMode='numTopFeatures'\n",
    ")\n",
    "\n",
    "features_selection.setFeatureType('continuous').setLabelType('continuous').setSelectionThreshold(4)\n",
    "\n",
    "\n",
    "model = features_selection.fit(data_with_features)\n",
    "\n",
    "\n",
    "selected_indices = model.selectedFeatures\n",
    "\n",
    "for indices in selected_indices:\n",
    "    print(needed_columns[indices])\n",
    "\n",
    "    \n",
    "selected_feature_names = [needed_columns[i] for i in selected_indices]\n",
    "    \n",
    "Final_data = Integrated_data.select(['Region', 'year', 'Total amount of convicted juveniles'] + selected_feature_names)\n",
    "\n",
    "Final_data.show()"
   ]
  },
  {
   "cell_type": "code",
   "execution_count": 8,
   "id": "68a20036",
   "metadata": {},
   "outputs": [
    {
     "name": "stdout",
     "output_type": "stream",
     "text": [
      "+----------+----+-----------------------------------+-------------------------------------+-----------------------------------+------------------------------------+---------------------+\n",
      "|    Region|year|Total amount of convicted juveniles|Total amount of family violence cases|Total amount of people with charges|Total amount of drugs offences cases|Mean household income|\n",
      "+----------+----+-----------------------------------+-------------------------------------+-----------------------------------+------------------------------------+---------------------+\n",
      "|East Coast|2014|                                150|                                 1080|                               5362|                                 380|    64268.58564814815|\n",
      "|East Coast|2015|                                150|                                 1162|                               5097|                                 357|    64268.58564814815|\n",
      "|East Coast|2016|                                153|                                 1192|                               4988|                                 463|    64268.58564814815|\n",
      "|East Coast|2017|                                147|                                 1195|                               5274|                                 450|    64268.58564814815|\n",
      "|East Coast|2018|                                123|                                 1122|                               4962|                                 414|    64268.58564814815|\n",
      "|East Coast|2019|                                114|                                 1094|                               4821|                                 443|    64268.58564814815|\n",
      "|East Coast|2020|                                105|                                 1120|                               4843|                                 464|    64268.58564814815|\n",
      "|East Coast|2021|                                 93|                                  949|                               4129|                                 335|    64268.58564814815|\n",
      "|East Coast|2022|                                 96|                                  880|                               4212|                                 390|    64268.58564814815|\n",
      "+----------+----+-----------------------------------+-------------------------------------+-----------------------------------+------------------------------------+---------------------+\n",
      "\n",
      "+--------------+----+-----------------------------------+-------------------------------------+-----------------------------------+------------------------------------+---------------------+\n",
      "|        Region|year|Total amount of convicted juveniles|Total amount of family violence cases|Total amount of people with charges|Total amount of drugs offences cases|Mean household income|\n",
      "+--------------+----+-----------------------------------+-------------------------------------+-----------------------------------+------------------------------------+---------------------+\n",
      "|South Auckland|2014|                                291|                                 1422|                              11409|                                 632|    64268.58564814815|\n",
      "|South Auckland|2015|                                297|                                 1484|                              10484|                                 565|    64268.58564814815|\n",
      "|South Auckland|2016|                                288|                                 1638|                              10109|                                 641|    64268.58564814815|\n",
      "|South Auckland|2017|                                246|                                 1595|                              10063|                                 624|    64268.58564814815|\n",
      "|South Auckland|2018|                                201|                                 1584|                               9366|                                 588|    64268.58564814815|\n",
      "|South Auckland|2019|                                159|                                 1460|                               8243|                                 602|    64268.58564814815|\n",
      "|South Auckland|2020|                                129|                                 1765|                               8537|                                 590|    64268.58564814815|\n",
      "|South Auckland|2021|                                102|                                 1367|                               6417|                                 353|    64268.58564814815|\n",
      "|South Auckland|2022|                                120|                                 1688|                               8123|                                 406|    64268.58564814815|\n",
      "+--------------+----+-----------------------------------+-------------------------------------+-----------------------------------+------------------------------------+---------------------+\n",
      "\n",
      "+--------------+----+-----------------------------------+-------------------------------------+-----------------------------------+------------------------------------+---------------------+\n",
      "|        Region|year|Total amount of convicted juveniles|Total amount of family violence cases|Total amount of people with charges|Total amount of drugs offences cases|Mean household income|\n",
      "+--------------+----+-----------------------------------+-------------------------------------+-----------------------------------+------------------------------------+---------------------+\n",
      "|South Auckland|2015|                                297|                                 1484|                              10484|                                 565|    64268.58564814815|\n",
      "|      Auckland|2016|                                 87|                                  961|                               7472|                                 669|             115091.0|\n",
      "|      Auckland|2020|                                 69|                                  929|                               5889|                                 638|             135414.0|\n",
      "|     Northland|2014|                                123|                                  692|                               4335|                                 339|              66248.0|\n",
      "|      Auckland|2017|                                 78|                                  851|                               6806|                                 741|             118097.0|\n",
      "|      Auckland|2021|                                 72|                                  711|                               4113|                                 468|             140771.0|\n",
      "|South Auckland|2016|                                288|                                 1638|                              10109|                                 641|    64268.58564814815|\n",
      "|South Auckland|2014|                                291|                                 1422|                              11409|                                 632|    64268.58564814815|\n",
      "|      Auckland|2015|                                120|                                  902|                               7398|                                 723|             107941.0|\n",
      "|      Auckland|2018|                                 66|                                  859|                               7149|                                 671|             122266.0|\n",
      "|     Northland|2019|                                 63|                                  722|                               3476|                                 359|              83350.0|\n",
      "|     Northland|2020|                                 69|                                  752|                               3719|                                 362|              88294.0|\n",
      "|     Northland|2022|                                 75|                                  648|                               3217|                                 236|              96383.0|\n",
      "|      Auckland|2014|                                123|                                  885|                               7870|                                 781|             103371.0|\n",
      "|      Auckland|2022|                                 87|                                  944|                               5968|                                 530|             151179.0|\n",
      "|     Northland|2018|                                102|                                  633|                               3937|                                 344|              78137.0|\n",
      "|     Northland|2017|                                114|                                  695|                               3964|                                 326|              75326.0|\n",
      "|     Northland|2016|                                117|                                  772|                               4435|                                 403|              73469.0|\n",
      "|     Northland|2021|                                 66|                                  640|                               3092|                                 242|              93714.0|\n",
      "|     Northland|2015|                                138|                                  817|                               4528|                                 341|              68880.0|\n",
      "+--------------+----+-----------------------------------+-------------------------------------+-----------------------------------+------------------------------------+---------------------+\n",
      "only showing top 20 rows\n",
      "\n"
     ]
    },
    {
     "name": "stdout",
     "output_type": "stream",
     "text": [
      "The count of data after data reduction:108\n"
     ]
    }
   ],
   "source": [
    "#4.2 Data reduction, delete those useless regions\n",
    "Final_data.filter(col('Region') == 'East Coast').show()\n",
    "\n",
    "Final_data.filter(col('Region') == 'South Auckland').show()\n",
    "\n",
    "Final_data.show()\n",
    "\n",
    "useless_regions=['Northern Wellington','East Coast','Waiariki','Waitematā']\n",
    "Final_data=Final_data.filter(~Final_data['Region'].isin(useless_regions))\n",
    "\n",
    "\n",
    "print(\"The count of data after data reduction:{}\".format(Final_data.count()))"
   ]
  },
  {
   "cell_type": "code",
   "execution_count": 9,
   "id": "9c6ba77d",
   "metadata": {
    "scrolled": false
   },
   "outputs": [
    {
     "name": "stdout",
     "output_type": "stream",
     "text": [
      "['Total amount of family violence cases', 'Total amount of people with charges', 'Total amount of drugs offences cases', 'Mean household income']\n",
      "root\n",
      " |-- Region: string (nullable = true)\n",
      " |-- year: long (nullable = true)\n",
      " |-- Total amount of convicted juveniles: long (nullable = true)\n",
      " |-- Total amount of family violence cases: long (nullable = true)\n",
      " |-- Total amount of people with charges: long (nullable = true)\n",
      " |-- Total amount of drugs offences cases: long (nullable = true)\n",
      " |-- Mean household income: double (nullable = true)\n",
      " |-- features: vector (nullable = true)\n",
      "\n",
      "+--------------------+-----------------------------------+\n",
      "|            features|Total amount of convicted juveniles|\n",
      "+--------------------+-----------------------------------+\n",
      "|[1104.0,5758.0,45...|                                162|\n",
      "|[1142.0,7797.0,48...|                                153|\n",
      "|[713.0,3030.0,234...|                                 57|\n",
      "|[1584.0,9366.0,58...|                                201|\n",
      "|[1129.0,6098.0,69...|                                129|\n",
      "|[1484.0,10484.0,5...|                                297|\n",
      "|[1088.0,6827.0,57...|                                144|\n",
      "|[1131.0,6972.0,58...|                                156|\n",
      "|[961.0,7472.0,669...|                                 87|\n",
      "|[860.0,4754.0,332...|                                111|\n",
      "|[425.0,1981.0,244...|                                  9|\n",
      "|[1595.0,10063.0,6...|                                246|\n",
      "|[1688.0,8123.0,40...|                                120|\n",
      "|[929.0,5889.0,638...|                                 69|\n",
      "|[740.0,3833.0,295...|                                 99|\n",
      "|[303.0,1726.0,255...|                                 33|\n",
      "|[692.0,4335.0,339...|                                123|\n",
      "|[982.0,4935.0,408...|                                 81|\n",
      "|[1091.0,6814.0,51...|                                138|\n",
      "|[851.0,6806.0,741...|                                 78|\n",
      "+--------------------+-----------------------------------+\n",
      "only showing top 20 rows\n",
      "\n"
     ]
    },
    {
     "name": "stderr",
     "output_type": "stream",
     "text": [
      "24/05/22 10:00:05 WARN Instrumentation: [acbe6c62] regParam is zero, which might cause numerical instability and overfitting.\n",
      "24/05/22 10:00:05 WARN InstanceBuilder$NativeBLAS: Failed to load implementation from:dev.ludovic.netlib.blas.JNIBLAS\n",
      "24/05/22 10:00:05 WARN InstanceBuilder$NativeBLAS: Failed to load implementation from:dev.ludovic.netlib.blas.ForeignLinkerBLAS\n",
      "24/05/22 10:00:05 WARN InstanceBuilder$NativeLAPACK: Failed to load implementation from:dev.ludovic.netlib.lapack.JNILAPACK\n"
     ]
    },
    {
     "name": "stdout",
     "output_type": "stream",
     "text": [
      "Coefficients: [-0.0035224665820982244,0.02241725411506229,-0.052536603535462634,-0.0007398693922971174] Intercept: 82.89121371997378\n"
     ]
    },
    {
     "name": "stderr",
     "output_type": "stream",
     "text": [
      "24/05/22 10:00:08 WARN Instrumentation: [70b07c54] regParam is zero, which might cause numerical instability and overfitting.\n"
     ]
    },
    {
     "name": "stdout",
     "output_type": "stream",
     "text": [
      "Coefficients: [-0.001964837438090662,0.02821333829705959,-0.09105776025005302,-0.0001420231572291655] Intercept: 16.355798297581273\n"
     ]
    },
    {
     "data": {
      "image/png": "[encoded data removed]",
      "text/plain": [
       "<Figure size 720x432 with 1 Axes>"
      ]
     },
     "metadata": {
      "needs_background": "light"
     },
     "output_type": "display_data"
    },
    {
     "name": "stderr",
     "output_type": "stream",
     "text": [
      "/home/ubuntu/spark-3.2.1-bin-hadoop2.7/python/pyspark/sql/context.py:125: FutureWarning: Deprecated in 3.0.0. Use SparkSession.builder.getOrCreate() instead.\n",
      "  warnings.warn(\n"
     ]
    },
    {
     "name": "stdout",
     "output_type": "stream",
     "text": [
      "+--------------------+\n",
      "|           residuals|\n",
      "+--------------------+\n",
      "|  2.1418066947015895|\n",
      "|  12.408108636659279|\n",
      "| -15.215580397575707|\n",
      "| -1.5419094107827718|\n",
      "| -10.386688450720833|\n",
      "|  -1.911463175160879|\n",
      "|0.008049714030384791|\n",
      "|  11.490631466106265|\n",
      "|   4.400143752329704|\n",
      "|    -5.5678900841949|\n",
      "| -19.921224498966552|\n",
      "| -15.478826925272593|\n",
      "|  -22.32903893474355|\n",
      "|   4.046460482528907|\n",
      "| -14.589318147113744|\n",
      "| -19.778557094808058|\n",
      "|  -28.04968079238548|\n",
      "| -12.425529862417179|\n",
      "|   6.509817942230974|\n",
      "|   4.520551446761502|\n",
      "+--------------------+\n",
      "only showing top 20 rows\n",
      "\n",
      "RSME: 23.406821939521198\n",
      "R2: 0.8051778570946788\n"
     ]
    },
    {
     "data": {
      "image/png": "[encoded data removed]",
      "text/plain": [
       "<Figure size 720x432 with 1 Axes>"
      ]
     },
     "metadata": {
      "needs_background": "light"
     },
     "output_type": "display_data"
    }
   ],
   "source": [
    "#6/7 Linear Regression, find out coefficient for each field\n",
    "\n",
    "from pyspark.ml.regression import LinearRegression\n",
    "from pyspark.ml.feature import VectorAssembler\n",
    "\n",
    "\n",
    "columns_list = Final_data.columns\n",
    "useless_columns = ['Region', 'year', 'Total amount of convicted juveniles']\n",
    "needed_features = []\n",
    "\n",
    "for column in columns_list:\n",
    "    if column not in useless_columns:\n",
    "        needed_features.append(column)\n",
    "\n",
    "print(needed_features)\n",
    "\n",
    "\n",
    "features_combination = VectorAssembler(\n",
    "    inputCols=needed_features,\n",
    "    outputCol='features'\n",
    ")\n",
    "\n",
    "\n",
    "data_with_features = features_combination.transform(Final_data)\n",
    "\n",
    "data_with_features.printSchema()\n",
    "\n",
    "research_data_1=data_with_features.select('features','Total amount of convicted juveniles')\n",
    "research_data_1.show()\n",
    "\n",
    "train_data_1,test_data_1 = research_data_1.randomSplit([0.2,0.8],seed=42)\n",
    "\n",
    "\n",
    "r1 = LinearRegression(labelCol='Total amount of convicted juveniles')\n",
    "r1_training = r1.fit(train_data_1)\n",
    "print(\"Coefficients: {} Intercept: {}\".format(r1_training.coefficients,r1_training.intercept))\n",
    "train_results =r1_training.evaluate(train_data_1)\n",
    "\n",
    "r1_testing=r1.fit(test_data_1)\n",
    "print(\"Coefficients: {} Intercept: {}\".format(r1_testing.coefficients,r1_testing.intercept))\n",
    "test_results =r1_testing.evaluate(test_data_1)\n",
    "\n",
    "\n",
    "#8.2 Data visualisation\n",
    "import matplotlib.pyplot as plt\n",
    "\n",
    "coefficients = r1_training.coefficients.toArray()\n",
    "label_name=[\"family violence\",\"adult's crime\",\"drugs\",\"income\"]\n",
    "features_importance = pd.DataFrame(list(zip(label_name, coefficients)), columns=['Feature', 'Coefficient'])\n",
    "features_importance = features_importance.sort_values(by='Coefficient', ascending=False)\n",
    "\n",
    "plt.figure(figsize=(10, 6))\n",
    "plt.plot(features_importance['Feature'], features_importance['Coefficient'], marker='o', linestyle='-', color='blue')\n",
    "plt.xticks(rotation=90)\n",
    "plt.xlabel('Feature')\n",
    "plt.ylabel('Coefficient')\n",
    "plt.title('Feature Importance in Linear Regression')\n",
    "plt.grid(True)\n",
    "plt.tight_layout()\n",
    "plt.show()\n",
    "\n",
    "\n",
    "\n",
    "#8.2/8.3 evaluation and data visualisation of evaluation\n",
    "\n",
    "import matplotlib.pyplot as plt\n",
    "\n",
    "test_results.residuals.show()\n",
    "print(\"RSME: {}\".format(test_results.rootMeanSquaredError))\n",
    "\n",
    "print(\"R2: {}\".format(test_results.r2))\n",
    "\n",
    "predictions_1 = test_results.predictions.select('prediction', 'Total amount of convicted juveniles').toPandas()\n",
    "\n",
    "plt.figure(figsize=(10, 6))\n",
    "plt.scatter(predictions_1['Total amount of convicted juveniles'], predictions_1['prediction'], alpha=0.5)\n",
    "plt.plot([predictions_1['Total amount of convicted juveniles'].min(), predictions_1['Total amount of convicted juveniles'].max()],\n",
    "         [predictions_1['Total amount of convicted juveniles'].min(), predictions_1['Total amount of convicted juveniles'].max()],\n",
    "         color='red', lw=2)\n",
    "\n",
    "plt.xlabel('Actual Values')\n",
    "plt.ylabel('Predicted Values')\n",
    "plt.title('Actual vs Predicted Values')\n",
    "plt.grid(True)\n",
    "plt.show()"
   ]
  },
  {
   "cell_type": "code",
   "execution_count": 10,
   "id": "82f7ff6d",
   "metadata": {
    "scrolled": false
   },
   "outputs": [
    {
     "name": "stdout",
     "output_type": "stream",
     "text": [
      "['Total amount of family violence cases', 'Total amount of people with charges', 'Total amount of drugs offences cases', 'Mean household income']\n",
      "root\n",
      " |-- Region: string (nullable = true)\n",
      " |-- year: long (nullable = true)\n",
      " |-- Total amount of convicted juveniles: long (nullable = true)\n",
      " |-- Total amount of family violence cases: long (nullable = true)\n",
      " |-- Total amount of people with charges: long (nullable = true)\n",
      " |-- Total amount of drugs offences cases: long (nullable = true)\n",
      " |-- Mean household income: double (nullable = true)\n",
      " |-- features: vector (nullable = true)\n",
      "\n",
      "+--------------------+-----------------------------------+\n",
      "|            features|Total amount of convicted juveniles|\n",
      "+--------------------+-----------------------------------+\n",
      "|[1104.0,5758.0,45...|                                162|\n",
      "|[1142.0,7797.0,48...|                                153|\n",
      "|[713.0,3030.0,234...|                                 57|\n",
      "|[1584.0,9366.0,58...|                                201|\n",
      "|[1129.0,6098.0,69...|                                129|\n",
      "|[1484.0,10484.0,5...|                                297|\n",
      "|[1088.0,6827.0,57...|                                144|\n",
      "|[1131.0,6972.0,58...|                                156|\n",
      "|[961.0,7472.0,669...|                                 87|\n",
      "|[860.0,4754.0,332...|                                111|\n",
      "|[425.0,1981.0,244...|                                  9|\n",
      "|[1595.0,10063.0,6...|                                246|\n",
      "|[1688.0,8123.0,40...|                                120|\n",
      "|[929.0,5889.0,638...|                                 69|\n",
      "|[740.0,3833.0,295...|                                 99|\n",
      "|[303.0,1726.0,255...|                                 33|\n",
      "|[692.0,4335.0,339...|                                123|\n",
      "|[982.0,4935.0,408...|                                 81|\n",
      "|[1091.0,6814.0,51...|                                138|\n",
      "|[851.0,6806.0,741...|                                 78|\n",
      "+--------------------+-----------------------------------+\n",
      "only showing top 20 rows\n",
      "\n"
     ]
    },
    {
     "name": "stderr",
     "output_type": "stream",
     "text": [
      "24/05/22 10:00:14 WARN DecisionTreeMetadata: DecisionTree reducing maxBins from 32 to 20 (= number of training instances)\n"
     ]
    },
    {
     "name": "stdout",
     "output_type": "stream",
     "text": [
      "                                 Feature  Importance\n",
      "0  Total amount of family violence cases    0.718746\n",
      "1    Total amount of people with charges    0.191764\n",
      "2   Total amount of drugs offences cases    0.062314\n",
      "3                  Mean household income    0.027176\n"
     ]
    },
    {
     "data": {
      "image/png": "[encoded data removed]",
      "text/plain": [
       "<Figure size 720x432 with 1 Axes>"
      ]
     },
     "metadata": {
      "needs_background": "light"
     },
     "output_type": "display_data"
    },
    {
     "name": "stdout",
     "output_type": "stream",
     "text": [
      "Root Mean Squared Error (RMSE) on test data = 34.492958767630455\n"
     ]
    },
    {
     "data": {
      "image/png": "[encoded data removed]",
      "text/plain": [
       "<Figure size 720x432 with 1 Axes>"
      ]
     },
     "metadata": {
      "needs_background": "light"
     },
     "output_type": "display_data"
    },
    {
     "name": "stdout",
     "output_type": "stream",
     "text": [
      "Learned regression tree model:\n",
      "DecisionTreeRegressionModel: uid=DecisionTreeRegressor_54c7408600b6, depth=5, numNodes=31, numFeatures=4\n",
      "  If (feature 0 <= 1011.5)\n",
      "   If (feature 0 <= 666.0)\n",
      "    If (feature 0 <= 444.5)\n",
      "     Predict: 9.0\n",
      "    Else (feature 0 > 444.5)\n",
      "     If (feature 2 <= 167.5)\n",
      "      If (feature 0 <= 477.5)\n",
      "       Predict: 48.0\n",
      "      Else (feature 0 > 477.5)\n",
      "       Predict: 51.0\n",
      "     Else (feature 2 > 167.5)\n",
      "      Predict: 66.0\n",
      "   Else (feature 0 > 666.0)\n",
      "    If (feature 3 <= 108533.5)\n",
      "     If (feature 1 <= 4101.0)\n",
      "      If (feature 0 <= 820.0)\n",
      "       Predict: 99.0\n",
      "      Else (feature 0 > 820.0)\n",
      "       Predict: 78.0\n",
      "     Else (feature 1 > 4101.0)\n",
      "      If (feature 0 <= 850.0)\n",
      "       Predict: 123.0\n",
      "      Else (feature 0 > 850.0)\n",
      "       Predict: 120.0\n",
      "    Else (feature 3 > 108533.5)\n",
      "     If (feature 1 <= 6810.0)\n",
      "      If (feature 0 <= 854.0)\n",
      "       Predict: 79.5\n",
      "      Else (feature 0 > 854.0)\n",
      "       Predict: 87.0\n",
      "     Else (feature 1 > 6810.0)\n",
      "      Predict: 66.0\n",
      "  Else (feature 0 > 1011.5)\n",
      "   If (feature 1 <= 9737.5)\n",
      "    If (feature 2 <= 521.0)\n",
      "     If (feature 0 <= 1337.5)\n",
      "      Predict: 138.0\n",
      "     Else (feature 0 > 1337.5)\n",
      "      Predict: 120.0\n",
      "    Else (feature 2 > 521.0)\n",
      "     If (feature 0 <= 1085.0)\n",
      "      Predict: 189.0\n",
      "     Else (feature 0 > 1085.0)\n",
      "      Predict: 201.0\n",
      "   Else (feature 1 > 9737.5)\n",
      "    Predict: 288.0\n",
      "\n"
     ]
    }
   ],
   "source": [
    "from pyspark.ml.regression import DecisionTreeRegressor\n",
    "from pyspark.ml.evaluation import RegressionEvaluator\n",
    "from pyspark.ml.feature import VectorAssembler\n",
    "\n",
    "\n",
    "columns_list = Final_data.columns\n",
    "useless_columns = ['Region', 'year', 'Total amount of convicted juveniles']\n",
    "needed_features = []\n",
    "\n",
    "for column in columns_list:\n",
    "    if column not in useless_columns:\n",
    "        needed_features.append(column)\n",
    "\n",
    "print(needed_features)\n",
    "\n",
    "\n",
    "features_combination = VectorAssembler(\n",
    "    inputCols=needed_features,\n",
    "    outputCol='features'\n",
    ")\n",
    "\n",
    "\n",
    "data_with_features = features_combination.transform(Final_data)\n",
    "\n",
    "data_with_features.printSchema()\n",
    "\n",
    "research_data_2=data_with_features.select('features','Total amount of convicted juveniles')\n",
    "research_data_2.show()\n",
    "\n",
    "train_data_2,test_data_2 = research_data_2.randomSplit([0.2,0.8],seed=42)\n",
    "\n",
    "d1 = DecisionTreeRegressor(labelCol='Total amount of convicted juveniles', featuresCol='features',maxDepth=5,seed=79)\n",
    "\n",
    "d1_model = d1.fit(train_data_2)\n",
    "\n",
    "#8.2 Data visualisation\n",
    "\n",
    "feature_importances_2 = d1_model.featureImportances.toArray()\n",
    "\n",
    "feature_names_2 = needed_features\n",
    "\n",
    "importances_df_2 = pd.DataFrame({\n",
    "    'Feature': feature_names_2,\n",
    "    'Importance': feature_importances_2\n",
    "})\n",
    "\n",
    "importances_df_2 = importances_df_2.sort_values(by='Importance', ascending=False)\n",
    "\n",
    "print(importances_df_2)\n",
    "\n",
    "plt.figure(figsize=(10, 6))\n",
    "plt.barh(importances_df_2['Feature'], importances_df_2['Importance'], color='red')\n",
    "plt.xlabel('Importance')\n",
    "plt.ylabel('Feature')\n",
    "plt.title('Feature Importance')\n",
    "plt.gca().invert_yaxis()\n",
    "plt.show()\n",
    "\n",
    "\n",
    "\n",
    "#8.2/8.3 evaluation and data visualisation of evaluation\n",
    "predictions_test= d1_model.transform(test_data_2)\n",
    "\n",
    "evaluator = RegressionEvaluator(\n",
    "    labelCol='Total amount of convicted juveniles', predictionCol='prediction', metricName='rmse'\n",
    ")\n",
    "\n",
    "test_rmse_1 = evaluator.evaluate(predictions_test)\n",
    "print(f\"Root Mean Squared Error (RMSE) on test data = {test_rmse_1}\")\n",
    "\n",
    "predictions_test_pd = predictions_test.select('prediction', 'Total amount of convicted juveniles').toPandas()\n",
    "\n",
    "plt.figure(figsize=(10, 6))\n",
    "plt.scatter(predictions_test_pd['Total amount of convicted juveniles'], predictions_test_pd['prediction'], alpha=0.5, label='Predictions')\n",
    "plt.plot([predictions_test_pd['Total amount of convicted juveniles'].min(), predictions_test_pd['Total amount of convicted juveniles'].max()],\n",
    "         [predictions_test_pd['Total amount of convicted juveniles'].min(), predictions_test_pd['Total amount of convicted juveniles'].max()],\n",
    "         color='red', lw=2, label='Perfect Prediction')\n",
    "\n",
    "plt.xlabel('Actual Values')\n",
    "plt.ylabel('Predicted Values')\n",
    "plt.title('Actual vs Predicted Values')\n",
    "plt.legend()\n",
    "plt.grid(True)\n",
    "plt.show()\n",
    "\n",
    "print(f\"Learned regression tree model:\\n{d1_model.toDebugString}\")\n",
    "\n",
    "\n"
   ]
  },
  {
   "cell_type": "code",
   "execution_count": 11,
   "id": "5631e685",
   "metadata": {},
   "outputs": [
    {
     "name": "stdout",
     "output_type": "stream",
     "text": [
      "['Total amount of family violence cases', 'Total amount of people with charges', 'Total amount of drugs offences cases', 'Mean household income']\n",
      "root\n",
      " |-- Region: string (nullable = true)\n",
      " |-- year: long (nullable = true)\n",
      " |-- Total amount of convicted juveniles: long (nullable = true)\n",
      " |-- Total amount of family violence cases: long (nullable = true)\n",
      " |-- Total amount of people with charges: long (nullable = true)\n",
      " |-- Total amount of drugs offences cases: long (nullable = true)\n",
      " |-- Mean household income: double (nullable = true)\n",
      " |-- features: vector (nullable = true)\n",
      "\n",
      "+--------------------+-----------------------------------+\n",
      "|            features|Total amount of convicted juveniles|\n",
      "+--------------------+-----------------------------------+\n",
      "|[1104.0,5758.0,45...|                                162|\n",
      "|[1142.0,7797.0,48...|                                153|\n",
      "|[713.0,3030.0,234...|                                 57|\n",
      "|[1584.0,9366.0,58...|                                201|\n",
      "|[1129.0,6098.0,69...|                                129|\n",
      "|[1484.0,10484.0,5...|                                297|\n",
      "|[1088.0,6827.0,57...|                                144|\n",
      "|[1131.0,6972.0,58...|                                156|\n",
      "|[961.0,7472.0,669...|                                 87|\n",
      "|[860.0,4754.0,332...|                                111|\n",
      "|[425.0,1981.0,244...|                                  9|\n",
      "|[1595.0,10063.0,6...|                                246|\n",
      "|[1688.0,8123.0,40...|                                120|\n",
      "|[929.0,5889.0,638...|                                 69|\n",
      "|[740.0,3833.0,295...|                                 99|\n",
      "|[303.0,1726.0,255...|                                 33|\n",
      "|[692.0,4335.0,339...|                                123|\n",
      "|[982.0,4935.0,408...|                                 81|\n",
      "|[1091.0,6814.0,51...|                                138|\n",
      "|[851.0,6806.0,741...|                                 78|\n",
      "+--------------------+-----------------------------------+\n",
      "only showing top 20 rows\n",
      "\n"
     ]
    },
    {
     "name": "stderr",
     "output_type": "stream",
     "text": [
      "24/05/22 10:00:18 WARN DecisionTreeMetadata: DecisionTree reducing maxBins from 32 to 20 (= number of training instances)\n"
     ]
    },
    {
     "name": "stdout",
     "output_type": "stream",
     "text": [
      "                                 Feature  Importance\n",
      "0  Total amount of family violence cases    0.387624\n",
      "1    Total amount of people with charges    0.318874\n",
      "2   Total amount of drugs offences cases    0.176578\n",
      "3                  Mean household income    0.116924\n"
     ]
    },
    {
     "data": {
      "image/png": "[encoded data removed]",
      "text/plain": [
       "<Figure size 720x432 with 1 Axes>"
      ]
     },
     "metadata": {
      "needs_background": "light"
     },
     "output_type": "display_data"
    },
    {
     "name": "stdout",
     "output_type": "stream",
     "text": [
      "Root Mean Squared Error (RMSE) on test data = 27.901899559107445\n"
     ]
    },
    {
     "data": {
      "image/png": "[encoded data removed]",
      "text/plain": [
       "<Figure size 720x432 with 1 Axes>"
      ]
     },
     "metadata": {
      "needs_background": "light"
     },
     "output_type": "display_data"
    }
   ],
   "source": [
    "#6/7 Random Forest\n",
    "from pyspark.ml.regression import RandomForestRegressor\n",
    "from pyspark.ml.evaluation import RegressionEvaluator\n",
    "from pyspark.ml.feature import VectorAssembler\n",
    "\n",
    "\n",
    "columns_list = Final_data.columns\n",
    "useless_columns = ['Region', 'year', 'Total amount of convicted juveniles']\n",
    "needed_features = []\n",
    "\n",
    "for column in columns_list:\n",
    "    if column not in useless_columns:\n",
    "        needed_features.append(column)\n",
    "\n",
    "print(needed_features)\n",
    "\n",
    "\n",
    "features_combination = VectorAssembler(\n",
    "    inputCols=needed_features,\n",
    "    outputCol='features'\n",
    ")\n",
    "\n",
    "\n",
    "data_with_features = features_combination.transform(Final_data)\n",
    "\n",
    "data_with_features.printSchema()\n",
    "\n",
    "research_data_3=data_with_features.select('features','Total amount of convicted juveniles')\n",
    "research_data_3.show()\n",
    "\n",
    "train_data_3,test_data_3 = research_data_3.randomSplit([0.2,0.8],seed=42)\n",
    "\n",
    "rf=RandomForestRegressor(labelCol='Total amount of convicted juveniles', featuresCol='features',numTrees=100, maxDepth=5, seed=79)\n",
    "\n",
    "rf_model = rf.fit(train_data_3)\n",
    "\n",
    "#8.2 Data visualisation\n",
    "\n",
    "feature_importances_3 = rf_model.featureImportances.toArray()\n",
    "\n",
    "feature_names_3 = needed_features\n",
    "\n",
    "importances_df_3 = pd.DataFrame({\n",
    "    'Feature': feature_names_3,\n",
    "    'Importance': feature_importances_3\n",
    "})\n",
    "\n",
    "importances_df_3 = importances_df_3.sort_values(by='Importance', ascending=False)\n",
    "\n",
    "print(importances_df_3)\n",
    "\n",
    "plt.figure(figsize=(10, 6))\n",
    "plt.barh(importances_df_3['Feature'], importances_df_3['Importance'], color='orange')\n",
    "plt.xlabel('Importance')\n",
    "plt.ylabel('Feature')\n",
    "plt.title('Feature Importance')\n",
    "plt.gca().invert_yaxis()\n",
    "plt.show()\n",
    "\n",
    "\n",
    "#8.2/8.3 evaluation and data visualisation of evaluation\n",
    "predictions_test_2=rf_model.transform(test_data_3)\n",
    "\n",
    "test_rmse_2 = evaluator.evaluate(predictions_test_2)\n",
    "\n",
    "print(f\"Root Mean Squared Error (RMSE) on test data = {test_rmse_2}\")\n",
    "\n",
    "evaluator = RegressionEvaluator(\n",
    "    labelCol='Total amount of convicted juveniles', predictionCol='prediction', metricName='rmse'\n",
    ")\n",
    "\n",
    "predictions_test_2_pd = predictions_test_2.select('prediction', 'Total amount of convicted juveniles').toPandas()\n",
    "\n",
    "plt.figure(figsize=(10, 6))\n",
    "plt.scatter(predictions_test_2_pd['Total amount of convicted juveniles'], predictions_test_2_pd['prediction'], alpha=0.5, label='Predictions')\n",
    "plt.plot([predictions_test_2_pd['Total amount of convicted juveniles'].min(), predictions_test_2_pd['Total amount of convicted juveniles'].max()],\n",
    "         [predictions_test_2_pd['Total amount of convicted juveniles'].min(), predictions_test_2_pd['Total amount of convicted juveniles'].max()],\n",
    "         color='red', lw=2, label='Perfect Prediction')\n",
    "\n",
    "plt.xlabel('Actual Values')\n",
    "plt.ylabel('Predicted Values')\n",
    "plt.title('Actual vs Predicted Values')\n",
    "plt.legend()\n",
    "plt.grid(True)\n",
    "plt.show()\n"
   ]
  },
  {
   "cell_type": "code",
   "execution_count": null,
   "id": "8661a0cb",
   "metadata": {},
   "outputs": [],
   "source": []
  }
 ],
 "metadata": {
  "kernelspec": {
   "display_name": "Python 3 (ipykernel)",
   "language": "python",
   "name": "python3"
  },
  "language_info": {
   "codemirror_mode": {
    "name": "ipython",
    "version": 3
   },
   "file_extension": ".py",
   "mimetype": "text/x-python",
   "name": "python",
   "nbconvert_exporter": "python",
   "pygments_lexer": "ipython3",
   "version": "3.10.4"
  }
 },
 "nbformat": 4,
 "nbformat_minor": 5
}
